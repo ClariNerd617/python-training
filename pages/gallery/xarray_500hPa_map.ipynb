{
 "cells": [
  {
   "cell_type": "markdown",
   "metadata": {
    "cell_marker": "\"\"\"",
    "lines_to_next_cell": 0
   },
   "source": [
    "Using Xarray for Data read and selection\n",
    "========================================\n",
    "\n",
    "Use Xarray module to read in model data from nomads server.\n",
    "\n",
    "This example uses the xarray module to access data from the nomads server for\n",
    "archive NAM analysis data via OPeNDAP. Xarray makes it easier to select times\n",
    "and levels, although you still have to know the coordinate variable name. A\n",
    "simple 500 hPa plot is created after selecting with xarray."
   ]
  },
  {
   "cell_type": "markdown",
   "metadata": {
    "cell_marker": "########################################",
    "lines_to_next_cell": 0
   },
   "source": [
    "Import all of our needed modules"
   ]
  },
  {
   "cell_type": "code",
   "execution_count": null,
   "metadata": {},
   "outputs": [],
   "source": [
    "from datetime import datetime\n",
    "\n",
    "import cartopy.crs as ccrs\n",
    "import cartopy.feature as cfeature\n",
    "import matplotlib.pyplot as plt\n",
    "import numpy as np\n",
    "import scipy.ndimage as ndimage\n",
    "import xarray as xr"
   ]
  },
  {
   "cell_type": "markdown",
   "metadata": {
    "cell_marker": "########################################"
   },
   "source": [
    "Accessing data using Xarray\n",
    "---------------------------"
   ]
  },
  {
   "cell_type": "code",
   "execution_count": null,
   "metadata": {},
   "outputs": [],
   "source": [
    "# Specify our date/time of product desired\n",
    "dt = datetime(2016, 4, 16, 18)\n",
    "\n",
    "# Construct our OPeNDAP access URL\n",
    "base_url = 'https://www.ncei.noaa.gov/thredds/dodsC/model-namanl-old/'\n",
    "data = xr.open_dataset(f'{base_url}{dt:%Y%m}/{dt:%Y%m%d}/'\n",
    "                       f'namanl_218_{dt:%Y%m%d}_{dt:%H}00_000.grb',\n",
    "                       decode_times=True)"
   ]
  },
  {
   "cell_type": "markdown",
   "metadata": {
    "cell_marker": "########################################"
   },
   "source": [
    "NAM data is in a projected coordinate and you get back the projection\n",
    "X and Y values in km"
   ]
  },
  {
   "cell_type": "code",
   "execution_count": null,
   "metadata": {},
   "outputs": [],
   "source": [
    "# Create a 2-d meshgrid of our x, y coordinates\n",
    "# manually converted to meters (km * 1000)\n",
    "x, y = np.meshgrid(data['x'].values * 1000, data['y'].values * 1000)"
   ]
  },
  {
   "cell_type": "markdown",
   "metadata": {
    "cell_marker": "########################################"
   },
   "source": [
    "Getting the valid times in a more useable format"
   ]
  },
  {
   "cell_type": "code",
   "execution_count": null,
   "metadata": {},
   "outputs": [],
   "source": [
    "# Get the valid times from the file\n",
    "vtimes = []\n",
    "for t in range(data.time.size):\n",
    "    vtimes.append(datetime.utcfromtimestamp(data.time[t].data.astype('O') / 1e9))\n",
    "print(vtimes)"
   ]
  },
  {
   "cell_type": "markdown",
   "metadata": {
    "cell_marker": "########################################"
   },
   "source": [
    "Xarray has some nice functionality to choose the time and level that\n",
    "you specifically want to use. In this example the time variable is 'time' and\n",
    "the level variable is 'isobaric1'. Unfortunately, these can be different with\n",
    "each file you use, so you'll always need to check what they are by listing\n",
    "the coordinate variable names"
   ]
  },
  {
   "cell_type": "code",
   "execution_count": null,
   "metadata": {},
   "outputs": [],
   "source": [
    "# print(data.Geopotential_height.coords)\n",
    "hght_500 = data['Geopotential_height_isobaric'].sel(time1=vtimes[0], isobaric=500)\n",
    "uwnd_500 = data['u-component_of_wind_isobaric'].sel(time1=vtimes[0], isobaric=500)\n",
    "vwnd_500 = data['v-component_of_wind_isobaric'].sel(time1=vtimes[0], isobaric=500)"
   ]
  },
  {
   "cell_type": "markdown",
   "metadata": {
    "cell_marker": "########################################"
   },
   "source": [
    "Now make the 500-hPa map\n",
    "------------------------"
   ]
  },
  {
   "cell_type": "code",
   "execution_count": null,
   "metadata": {},
   "outputs": [],
   "source": [
    "# Must set data projection, NAM is LCC projection\n",
    "datacrs = ccrs.LambertConformal(\n",
    "    central_latitude=data.LambertConformal_Projection.latitude_of_projection_origin,\n",
    "    central_longitude=data.LambertConformal_Projection.longitude_of_central_meridian)\n",
    "\n",
    "# A different LCC projection for the plot.\n",
    "plotcrs = ccrs.LambertConformal(central_latitude=45., central_longitude=-100.,\n",
    "                                standard_parallels=[30, 60])\n",
    "\n",
    "fig = plt.figure(figsize=(17., 11.))\n",
    "ax = plt.axes(projection=plotcrs)\n",
    "ax.coastlines('50m', edgecolor='black')\n",
    "ax.add_feature(cfeature.STATES, linewidth=0.5)\n",
    "ax.set_extent([-130, -67, 20, 50], ccrs.PlateCarree())\n",
    "\n",
    "clev500 = np.arange(5100, 6000, 60)\n",
    "cs = ax.contour(x, y, ndimage.gaussian_filter(hght_500, sigma=5), clev500,\n",
    "                colors='k', linewidths=2.5, linestyles='solid', transform=datacrs)\n",
    "ax.clabel(cs, fontsize=12, colors='k', inline=1, inline_spacing=8,\n",
    "          fmt='%i', rightside_up=True, use_clabeltext=True)\n",
    "\n",
    "# Here we put boxes around the clabels with a black boarder white facecolor\n",
    "# `labelTexts` necessary as ~cartopy.mpl.contour.GeoContourSet.clabel\n",
    "# does not return list of texts as of 0.18\n",
    "for t in cs.labelTexts:\n",
    "    t.set_bbox({'fc': 'w'})\n",
    "\n",
    "# Transform Vectors before plotting, then plot wind barbs.\n",
    "ax.barbs(x, y, uwnd_500.data, vwnd_500.data, length=7, regrid_shape=20, transform=datacrs)\n",
    "\n",
    "# Add some titles to make the plot readable by someone else\n",
    "plt.title('500-hPa Geopotential Heights (m)', loc='left')\n",
    "plt.title(f'VALID: {vtimes[0]}', loc='right');"
   ]
  }
 ],
 "metadata": {
  "jupytext": {
   "cell_metadata_filter": "-all",
   "main_language": "python",
   "notebook_metadata_filter": "-all"
  },
  "kernelspec": {
   "display_name": "Python 3",
   "language": "python",
   "name": "python3"
  },
  "language_info": {
   "codemirror_mode": {
    "name": "ipython",
    "version": 3
   },
   "file_extension": ".py",
   "mimetype": "text/x-python",
   "name": "python",
   "nbconvert_exporter": "python",
   "pygments_lexer": "ipython3",
   "version": "3.8.5"
  }
 },
 "nbformat": 4,
 "nbformat_minor": 4
}
