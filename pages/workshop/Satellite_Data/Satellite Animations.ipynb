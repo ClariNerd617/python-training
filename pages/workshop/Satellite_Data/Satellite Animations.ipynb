{
 "cells": [
  {
   "cell_type": "markdown",
   "metadata": {},
   "source": [
    "<a name=\"pagetop\"></a>\n",
    "<div style=\"width:1000 px\">\n",
    "\n",
    "<div style=\"float:right; width:98 px; height:98px;\"><img src=\"https://pbs.twimg.com/profile_images/1187259618/unidata_logo_rgb_sm_400x400.png\" alt=\"Unidata Logo\" style=\"height: 98px;\"></div>\n",
    "\n",
    "<h1>Making a Satellite Animation</h1>\n",
    "<h3>Unidata Python Workshop</h3>\n",
    "\n",
    "<div style=\"clear:both\"></div>\n",
    "</div>\n",
    "\n",
    "<hr style=\"height:2px;\">\n",
    "\n",
    "### Questions\n",
    "1. How are animations made?"
   ]
  },
  {
   "cell_type": "markdown",
   "metadata": {},
   "source": [
    "This is just a quick taste of producing an animation using matplotlib. The animation support in matplotlib is robust, but sometimes installation of the underlying tool (ffmpeg) can be a little tricky. In order to make sure we get don't get bogged down, this is really more of a demo than something expected to work out of the box.\n",
    "\n",
    "Conda-forge has packages, so it may be as easy as:"
   ]
  },
  {
   "cell_type": "code",
   "execution_count": null,
   "metadata": {},
   "outputs": [],
   "source": [
    "#!conda install -y -n unidata-workshop -c conda-forge ffmpeg"
   ]
  },
  {
   "cell_type": "markdown",
   "metadata": {},
   "source": [
    "First, we'll import the animation support from matplotlib. We also tell it that we want it to render the animations to HTML using the HTML5 video tag:"
   ]
  },
  {
   "cell_type": "code",
   "execution_count": null,
   "metadata": {},
   "outputs": [],
   "source": [
    "import os.path\n",
    "import sys\n",
    "\n",
    "from datetime import datetime\n",
    "\n",
    "import cartopy.feature as cfeature\n",
    "import matplotlib as mpl\n",
    "import matplotlib.pyplot as plt\n",
    "import metpy\n",
    "\n",
    "from IPython.display import HTML\n",
    "from matplotlib.animation import ArtistAnimation\n",
    "from metpy.plots import add_timestamp, colortables\n",
    "from siphon.catalog import TDSCatalog"
   ]
  },
  {
   "cell_type": "markdown",
   "metadata": {},
   "source": [
    "We create the base figure, then we loop over a bunch of the datasets to create an animation. For each one we pull out the data and plot both the timestamp and the image. The `ArtistAnimation` class takes the `Figure` instance and a list as required arguments. The contents of this list are a collection of matplotlib artists for each frame of the animation. In the loop below, we populate this list with the `Text` instance created when adding the timestamp as well as the image that results from plotting the data."
   ]
  },
  {
   "cell_type": "code",
   "execution_count": null,
   "metadata": {},
   "outputs": [],
   "source": [
    "mpl.rcParams['animation.embed_limit'] = 50\n",
    "\n",
    "# List used to store the contents of all frames. Each item in the list is a tuple of\n",
    "# (image, text)\n",
    "artists = []\n",
    "\n",
    "case_date = datetime(2017, 9, 9)\n",
    "channel = 8\n",
    "\n",
    "# Get the IRMA case study catalog\n",
    "cat = TDSCatalog('http://thredds.ucar.edu/thredds/catalog/casestudies/irma'\n",
    "                 f'/goes16/Mesoscale-1/Channel{channel:02d}/{case_date:%Y%m%d}/'\n",
    "                 'catalog.xml')\n",
    "    \n",
    "datasets = cat.datasets.filter_time_range(datetime(2017, 9, 9), datetime(2017, 9, 9, 6))\n",
    "\n",
    "# Grab the first dataset and make the figure using its projection information\n",
    "ds = datasets[0]\n",
    "ds = ds.remote_access(use_xarray=True)\n",
    "dat = ds.metpy.parse_cf('Sectorized_CMI')\n",
    "proj = dat.metpy.cartopy_crs\n",
    "\n",
    "fig = plt.figure(figsize=(10,8))\n",
    "ax = fig.add_subplot(1, 1, 1, projection=proj)\n",
    "plt.subplots_adjust(left=0.005, bottom=0.005, right=0.995, top=0.995, wspace=0, hspace=0)\n",
    "ax.add_feature(cfeature.COASTLINE.with_scale('50m'), linewidth=2)\n",
    "ax.add_feature(cfeature.BORDERS.with_scale('50m'), linewidth=2)\n",
    "\n",
    "wv_norm, wv_cmap = colortables.get_with_range('WVCIMSS_r', 195, 265)\n",
    "\n",
    "# Loop over the datasets and make the animation\n",
    "for ds in datasets[::-6]:\n",
    "\n",
    "    # Open the data\n",
    "    ds = ds.remote_access(use_xarray=True)\n",
    "    dat = ds.metpy.parse_cf('Sectorized_CMI')\n",
    "    \n",
    "    # Pull out the image data, x and y coordinates, and the time. Also go ahead and\n",
    "    # convert the time to a python datetime\n",
    "    x = dat['x']\n",
    "    y = dat['y']\n",
    "    timestamp = datetime.strptime(ds.start_date_time, '%Y%j%H%M%S')\n",
    "    img_data = ds['Sectorized_CMI']\n",
    "\n",
    "    # Plot the image and the timestamp. We save the results of these plotting functions\n",
    "    # so that we can tell the animation that these two things should be drawn as one\n",
    "    # frame in the animation\n",
    "    im = ax.imshow(dat, extent=(x.min(), x.max(), y.min(), y.max()), origin='upper',\n",
    "                   cmap=wv_cmap, norm=wv_norm)\n",
    "\n",
    "    text_time = add_timestamp(ax, timestamp, pretext=f'GOES-16 Ch.{channel} ',\n",
    "                              high_contrast=True, fontsize=16, y=0.01)\n",
    "    \n",
    "    # Stuff them in a tuple and add to the list of things to animate\n",
    "    artists.append((im, text_time))\n",
    "\n",
    "# Create the animation--in addition to the required args, we also state that each\n",
    "# frame should last 200 milliseconds\n",
    "anim = ArtistAnimation(fig, artists, interval=200., blit=False)\n",
    "anim.save('GOES_Animation.mp4')\n",
    "HTML(anim.to_jshtml())"
   ]
  },
  {
   "cell_type": "markdown",
   "metadata": {},
   "source": [
    "<a href=\"#pagetop\">Top</a>\n",
    "<hr style=\"height:2px;\">"
   ]
  }
 ],
 "metadata": {
  "kernelspec": {
   "display_name": "Python 3",
   "language": "python",
   "name": "python3"
  },
  "language_info": {
   "codemirror_mode": {
    "name": "ipython",
    "version": 3
   },
   "file_extension": ".py",
   "mimetype": "text/x-python",
   "name": "python",
   "nbconvert_exporter": "python",
   "pygments_lexer": "ipython3",
   "version": "3.8.5"
  }
 },
 "nbformat": 4,
 "nbformat_minor": 4
}
