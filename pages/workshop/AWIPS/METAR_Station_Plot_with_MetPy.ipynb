{
 "cells": [
  {
   "cell_type": "markdown",
   "metadata": {},
   "source": [
    "This exercise creates a METAR plot for North America using AWIPS METAR observations (datatype *obs*) and MetPy."
   ]
  },
  {
   "cell_type": "code",
   "execution_count": null,
   "metadata": {},
   "outputs": [],
   "source": [
    "from awips.dataaccess import DataAccessLayer\n",
    "from dynamicserialize.dstypes.com.raytheon.uf.common.time import TimeRange\n",
    "from datetime import datetime, timedelta\n",
    "import numpy as np\n",
    "import cartopy.crs as ccrs\n",
    "import cartopy.feature as cfeature\n",
    "import matplotlib.pyplot as plt\n",
    "from metpy.calc import wind_components\n",
    "from metpy.plots import StationPlot, StationPlotLayout\n",
    "from metpy.units import units\n",
    "import warnings\n",
    "%matplotlib inline\n",
    "warnings.filterwarnings(\"ignore\",category =RuntimeWarning)\n",
    "\n",
    "def get_cloud_cover(code):\n",
    "    if 'OVC' in code:\n",
    "        return 1.0\n",
    "    elif 'BKN' in code:\n",
    "        return 6.0/8.0\n",
    "    elif 'SCT' in code:\n",
    "        return 4.0/8.0\n",
    "    elif 'FEW' in code:\n",
    "        return 2.0/8.0\n",
    "    else:\n",
    "        return 0\n",
    "\n",
    "# Pull out these specific stations (prepend K for AWIPS identifiers)\n",
    "selected = ['PDX', 'OKC', 'ICT', 'GLD', 'MEM', 'BOS', 'MIA', 'MOB', 'ABQ', 'PHX', 'TTF',\n",
    "            'ORD', 'BIL', 'BIS', 'CPR', 'LAX', 'ATL', 'MSP', 'SLC', 'DFW', 'NYC', 'PHL',\n",
    "            'PIT', 'IND', 'OLY', 'SYR', 'LEX', 'CHS', 'TLH', 'HOU', 'GJT', 'LBB', 'LSV',\n",
    "            'GRB', 'CLT', 'LNK', 'DSM', 'BOI', 'FSD', 'RAP', 'RIC', 'JAN', 'HSV', 'CRW',\n",
    "            'SAT', 'BUY', '0CO', 'ZPC', 'VIH', 'BDG', 'MLF', 'ELY', 'WMC', 'OTH', 'CAR',\n",
    "            'LMT', 'RDM', 'PDT', 'SEA', 'UIL', 'EPH', 'PUW', 'COE', 'MLP', 'PIH', 'IDA', \n",
    "            'MSO', 'ACV', 'HLN', 'BIL', 'OLF', 'RUT', 'PSM', 'JAX', 'TPA', 'SHV', 'MSY',\n",
    "            'ELP', 'RNO', 'FAT', 'SFO', 'NYL', 'BRO', 'MRF', 'DRT', 'FAR', 'BDE', 'DLH',\n",
    "            'HOT', 'LBF', 'FLG', 'CLE', 'UNV']\n",
    "selected = ['K{0}'.format(id) for id in selected]\n",
    "data_arr = []"
   ]
  },
  {
   "cell_type": "code",
   "execution_count": null,
   "metadata": {},
   "outputs": [],
   "source": [
    "# EDEX Request\n",
    "edexServer = \"edex-cloud.unidata.ucar.edu\"\n",
    "DataAccessLayer.changeEDEXHost(edexServer)\n",
    "request = DataAccessLayer.newDataRequest(\"obs\")\n",
    "availableProducts = DataAccessLayer.getAvailableParameters(request)\n",
    "\n",
    "single_value_params = [\"timeObs\", \"stationName\", \"longitude\", \"latitude\", \n",
    "                       \"temperature\", \"dewpoint\", \"windDir\",\n",
    "                       \"windSpeed\", \"seaLevelPress\"]\n",
    "multi_value_params = [\"presWeather\", \"skyCover\", \"skyLayerBase\"]\n",
    "pres_weather, sky_cov, sky_layer_base = [],[],[]\n",
    "params = single_value_params + multi_value_params\n",
    "obs = dict({params: [] for params in params})\n",
    "\n",
    "request.setParameters(*(params))\n",
    "request.setLocationNames(*(selected))"
   ]
  },
  {
   "cell_type": "markdown",
   "metadata": {},
   "source": [
    "Here we use the Python-AWIPS class **TimeRange** to prepare a beginning and end time span for requesting observations (the last hour):"
   ]
  },
  {
   "cell_type": "code",
   "execution_count": null,
   "metadata": {},
   "outputs": [],
   "source": [
    "# Time range\n",
    "lastHourDateTime = datetime.utcnow() - timedelta(hours = 1)\n",
    "start = lastHourDateTime.strftime('%Y-%m-%d %H')\n",
    "beginRange = datetime.strptime( start + \":00:00\", \"%Y-%m-%d %H:%M:%S\")\n",
    "endRange = datetime.strptime( start + \":59:59\", \"%Y-%m-%d %H:%M:%S\")\n",
    "timerange = TimeRange(beginRange, endRange)\n",
    "\n",
    "response = DataAccessLayer.getGeometryData(request,timerange)"
   ]
  },
  {
   "cell_type": "code",
   "execution_count": null,
   "metadata": {},
   "outputs": [],
   "source": [
    "station_names = []\n",
    "for ob in response:\n",
    "    avail_params = ob.getParameters()\n",
    "    if \"presWeather\" in avail_params:\n",
    "        pres_weather.append(ob.getString(\"presWeather\"))\n",
    "    elif \"skyCover\" in avail_params and \"skyLayerBase\" in avail_params:\n",
    "        sky_cov.append(ob.getString(\"skyCover\"))\n",
    "        sky_layer_base.append(ob.getNumber(\"skyLayerBase\"))\n",
    "    else:\n",
    "        # If we already have a record for this stationName, skip\n",
    "        if ob.getString('stationName') not in station_names:\n",
    "            station_names.append(ob.getString('stationName'))\n",
    "            for param in single_value_params:            \n",
    "                if param in avail_params:\n",
    "                    if param == 'timeObs':\n",
    "                        obs[param].append(datetime.fromtimestamp(ob.getNumber(param)/1000.0))\n",
    "                    else:\n",
    "                        try:\n",
    "                            obs[param].append(ob.getNumber(param))\n",
    "                        except TypeError:\n",
    "                            obs[param].append(ob.getString(param))\n",
    "                else:\n",
    "                    obs[param].append(None)\n",
    "        \n",
    "            obs['presWeather'].append(pres_weather);\n",
    "            obs['skyCover'].append(sky_cov);\n",
    "            obs['skyLayerBase'].append(sky_layer_base);\n",
    "            pres_weather = []\n",
    "            sky_cov = []\n",
    "            sky_layer_base = []"
   ]
  },
  {
   "cell_type": "markdown",
   "metadata": {},
   "source": [
    "Next grab the simple variables out of the data we have (attaching correct units), and\n",
    "put them into a dictionary that we will hand the plotting function later:\n",
    "\n",
    "- Get wind components from speed and direction\n",
    "- Convert cloud fraction values to integer codes [0 - 8]\n",
    "- Map METAR weather codes to WMO codes for weather symbols"
   ]
  },
  {
   "cell_type": "code",
   "execution_count": null,
   "metadata": {},
   "outputs": [],
   "source": [
    "data = dict()\n",
    "data['stid'] = np.array(obs['stationName'])\n",
    "data['latitude']  = np.array(obs['latitude'])\n",
    "data['longitude'] = np.array(obs['longitude'])\n",
    "data['air_temperature'] = np.array(obs['temperature'], dtype=float)* units.degC\n",
    "data['dew_point_temperature'] = np.array(obs['dewpoint'], dtype=float)* units.degC\n",
    "data['air_pressure_at_sea_level'] = np.array(obs['seaLevelPress'])* units('mbar')\n",
    "\n",
    "direction = np.array(obs['windDir'])\n",
    "direction[direction == -9999.0] = 'nan'\n",
    "\n",
    "u, v = wind_components(np.array(obs['windSpeed']) * units('knots'),\n",
    "                           direction * units.degree)\n",
    "data['eastward_wind'], data['northward_wind'] = u, v\n",
    "data['cloud_coverage'] = [int(get_cloud_cover(x)*8) for x in obs['skyCover']]\n",
    "data['present_weather'] = obs['presWeather']"
   ]
  },
  {
   "cell_type": "code",
   "execution_count": null,
   "metadata": {},
   "outputs": [],
   "source": [
    "print(obs['stationName'])"
   ]
  },
  {
   "cell_type": "markdown",
   "metadata": {},
   "source": [
    "## MetPy Surface Obs Plot"
   ]
  },
  {
   "cell_type": "code",
   "execution_count": null,
   "metadata": {},
   "outputs": [],
   "source": [
    "proj = ccrs.LambertConformal(central_longitude=-95, central_latitude=35,\n",
    "                             standard_parallels=[35])\n",
    "\n",
    "# Change the DPI of the figure\n",
    "plt.rcParams['savefig.dpi'] = 255\n",
    "\n",
    "# Winds, temps, dewpoint, station id\n",
    "custom_layout = StationPlotLayout()\n",
    "custom_layout.add_barb('eastward_wind', 'northward_wind', units='knots')\n",
    "custom_layout.add_value('NW', 'air_temperature', fmt='.0f', units='degF', color='darkred')\n",
    "custom_layout.add_value('SW', 'dew_point_temperature', fmt='.0f', units='degF', color='darkgreen')\n",
    "custom_layout.add_value('E', 'precipitation', fmt='0.1f', units='inch', color='blue')\n",
    "\n",
    "# Create the figure\n",
    "fig = plt.figure(figsize=(20, 10))\n",
    "ax = fig.add_subplot(1, 1, 1, projection=proj)\n",
    "\n",
    "# Add various map elements\n",
    "ax.add_feature(cfeature.LAND)\n",
    "ax.add_feature(cfeature.OCEAN)\n",
    "ax.add_feature(cfeature.LAKES)\n",
    "ax.add_feature(cfeature.COASTLINE)\n",
    "ax.add_feature(cfeature.STATES)\n",
    "ax.add_feature(cfeature.BORDERS, linewidth=2)\n",
    "\n",
    "# Set plot bounds\n",
    "ax.set_extent((-118, -73, 23, 50))\n",
    "ax.set_title(str(ob.getDataTime()) + \" | METAR | \" + edexServer)\n",
    "\n",
    "stationplot = StationPlot(ax, data['longitude'], data['latitude'], clip_on=True,\n",
    "                          transform=ccrs.PlateCarree(), fontsize=10)\n",
    "stationplot.plot_text((2, 0), data['stid'])\n",
    "custom_layout.plot(stationplot, data)\n",
    "plt.show()"
   ]
  }
 ],
 "metadata": {
  "kernelspec": {
   "display_name": "Python 3",
   "language": "python",
   "name": "python3"
  },
  "language_info": {
   "codemirror_mode": {
    "name": "ipython",
    "version": 3
   },
   "file_extension": ".py",
   "mimetype": "text/x-python",
   "name": "python",
   "nbconvert_exporter": "python",
   "pygments_lexer": "ipython3",
   "version": "3.8.6"
  }
 },
 "nbformat": 4,
 "nbformat_minor": 1
}
