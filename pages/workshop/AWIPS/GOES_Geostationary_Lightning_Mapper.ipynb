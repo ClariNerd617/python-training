{
 "cells": [
  {
   "cell_type": "markdown",
   "metadata": {},
   "source": [
    "The Geostationary Lightning Mapper, or GLM, on board GOES-R Series spacecraft, is the first operational lightning mapper flown in geostationary orbit. GLM detects the light emitted by lightning at the tops of clouds day and night and collects information such as the frequency, location and extent of lightning discharges. The instrument measures total lightning, both in-cloud and cloud-to-ground, to aid in forecasting developing severe storms and a wide range of high-impact environmental phenomena including hailstorms, microburst winds, tornadoes, hurricanes, flash floods, snowstorms and fires.\n",
    "\n",
    "AWIPS GLM point data are available in three formats\n",
    "\n",
    "* `GLMev` Events\n",
    "* `GLMfl` Flashes\n",
    "* `GLMgr` Groups\n",
    "\n",
    "and with seven attributes:\n",
    "\n",
    "* height\n",
    "* intensity\n",
    "* msgType\n",
    "* pulseCount\n",
    "* pulseIndex\n",
    "* sensorCount\n",
    "* strikeType\n",
    "\n",
    "\n",
    "## GLM Sources and Parameters"
   ]
  },
  {
   "cell_type": "code",
   "execution_count": null,
   "metadata": {},
   "outputs": [],
   "source": [
    "from awips.dataaccess import DataAccessLayer\n",
    "import cartopy.crs as ccrs\n",
    "import cartopy.feature as cfeat\n",
    "import matplotlib.pyplot as plt\n",
    "from cartopy.mpl.gridliner import LONGITUDE_FORMATTER, LATITUDE_FORMATTER\n",
    "import numpy as np\n",
    "import datetime\n",
    "\n",
    "%matplotlib inline\n",
    "\n",
    "# Create an EDEX data request\n",
    "edexServer = \"edex-cloud.unidata.ucar.edu\"\n",
    "datatype = \"binlightning\"\n",
    "DataAccessLayer.changeEDEXHost(edexServer)\n",
    "request = DataAccessLayer.newDataRequest(datatype)\n",
    "\n",
    "# Show available sources\n",
    "sources = DataAccessLayer.getIdentifierValues(request, \"source\")\n",
    "print(\"available sources:\")\n",
    "print(list(sources))\n",
    "print(\"\")\n",
    "availableParms = DataAccessLayer.getAvailableParameters(request)\n",
    "availableParms.sort()\n",
    "print(\"available parameters:\")\n",
    "print(list(availableParms))"
   ]
  },
  {
   "cell_type": "code",
   "execution_count": null,
   "metadata": {},
   "outputs": [],
   "source": [
    "request.addIdentifier(\"source\", \"GLMgr\")\n",
    "request.setParameters(\"intensity\")\n",
    "times = DataAccessLayer.getAvailableTimes(request)\n",
    "response = DataAccessLayer.getGeometryData(request, [times[-1]])\n",
    "glm_points = []\n",
    "for data in response:\n",
    "       glm_points.append(data.getGeometry())\n",
    "ob = response[0]"
   ]
  },
  {
   "cell_type": "code",
   "execution_count": null,
   "metadata": {
    "scrolled": true
   },
   "outputs": [],
   "source": [
    "# Plot markers\n",
    "fig, ax = plt.subplots(figsize=(16,16),subplot_kw=dict(projection=ccrs.Orthographic(central_longitude=-90.0)))\n",
    "ax.coastlines(resolution='50m')\n",
    "ax.gridlines()\n",
    "ax.scatter([point.x for point in glm_points],\n",
    "       [point.y for point in glm_points],\n",
    "       transform=ccrs.PlateCarree(),marker=\"+\",facecolor='red')\n",
    "ax.set_title(str(response[-1].getDataTime().getRefTime()) + \" | \" + ob.getAttribute('source') + \" | \" + edexServer)\n"
   ]
  }
 ],
 "metadata": {
  "kernelspec": {
   "display_name": "Python 3",
   "language": "python",
   "name": "python3"
  },
  "language_info": {
   "codemirror_mode": {
    "name": "ipython",
    "version": 3
   },
   "file_extension": ".py",
   "mimetype": "text/x-python",
   "name": "python",
   "nbconvert_exporter": "python",
   "pygments_lexer": "ipython3",
   "version": "3.8.6"
  }
 },
 "nbformat": 4,
 "nbformat_minor": 1
}
