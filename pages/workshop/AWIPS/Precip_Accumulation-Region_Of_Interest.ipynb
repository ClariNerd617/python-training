{
 "cells": [
  {
   "cell_type": "markdown",
   "metadata": {},
   "source": [
    "A way to determine areas of greatest precipitation and generate imagery for that sector."
   ]
  },
  {
   "cell_type": "code",
   "execution_count": null,
   "metadata": {},
   "outputs": [],
   "source": [
    "from awips.dataaccess import DataAccessLayer\n",
    "import cartopy.crs as ccrs\n",
    "import matplotlib.pyplot as plt\n",
    "from cartopy.mpl.gridliner import LONGITUDE_FORMATTER, LATITUDE_FORMATTER\n",
    "from metpy.units import units\n",
    "import numpy as np\n",
    "from shapely.geometry import Point, Polygon\n",
    "\n",
    "%matplotlib inline\n",
    "\n",
    "conus=[-120, -65, 28, 50]\n",
    "conus_envelope = Polygon([(conus[0],conus[2]),(conus[0],conus[3]),\n",
    "                          (conus[1],conus[3]),(conus[1],conus[2]),\n",
    "                          (conus[0],conus[2])])\n",
    "\n",
    "DataAccessLayer.changeEDEXHost(\"edex-cloud.unidata.ucar.edu\")\n",
    "request = DataAccessLayer.newDataRequest(\"grid\", envelope=conus_envelope)\n",
    "request.setLocationNames(\"NAM40\")\n",
    "request.setLevels(\"0.0SFC\")\n",
    "request.setParameters(\"TP\")\n",
    "\n",
    "cycles = DataAccessLayer.getAvailableTimes(request, True)\n",
    "times = DataAccessLayer.getAvailableTimes(request)\n",
    "fcstRun = DataAccessLayer.getForecastRun(cycles[-2], times)"
   ]
  },
  {
   "cell_type": "markdown",
   "metadata": {},
   "source": [
    "Calculate accumulated precipitation"
   ]
  },
  {
   "cell_type": "code",
   "execution_count": null,
   "metadata": {},
   "outputs": [],
   "source": [
    "for i, tt in enumerate(fcstRun):\n",
    "    response = DataAccessLayer.getGridData(request, [tt])\n",
    "    grid = response[0]\n",
    "    if i>0:\n",
    "        data += grid.getRawData()\n",
    "    else:\n",
    "        data = grid.getRawData()\n",
    "    data[data <= -9999] = 0\n",
    "    print(data.min(), data.max(), grid.getDataTime().getFcstTime()/3600)\n",
    "    \n",
    "\n",
    "lons, lats = grid.getLatLonCoords()\n",
    "bbox = [lons.min(), lons.max(), lats.min(), lats.max()]\n",
    "fcstHr = int(grid.getDataTime().getFcstTime()/3600)\n",
    "\n",
    "tp_inch = data * (0.0393701)\n",
    "print(tp_inch.min(), tp_inch.max())"
   ]
  },
  {
   "cell_type": "markdown",
   "metadata": {},
   "source": [
    "Determine lat/lon of maximum rainfall value:"
   ]
  },
  {
   "cell_type": "code",
   "execution_count": null,
   "metadata": {},
   "outputs": [],
   "source": [
    "ii,jj = np.where(tp_inch==tp_inch.max())\n",
    "i=ii[0]\n",
    "j=jj[0]\n",
    "point = Point(lons[i][j], lats[i][j])"
   ]
  },
  {
   "cell_type": "markdown",
   "metadata": {},
   "source": [
    "Draw CONUS map"
   ]
  },
  {
   "cell_type": "code",
   "execution_count": null,
   "metadata": {
    "scrolled": true
   },
   "outputs": [],
   "source": [
    "def make_map(bbox, projection=ccrs.PlateCarree()):\n",
    "    fig, ax = plt.subplots(figsize=(20, 14),\n",
    "            subplot_kw=dict(projection=projection))\n",
    "    ax.set_extent(bbox)\n",
    "    ax.coastlines(resolution='50m')\n",
    "    return fig, ax\n",
    "\n",
    "cmap = plt.get_cmap('rainbow')\n",
    "fig, ax = make_map(bbox=bbox)\n",
    "cs = ax.pcolormesh(lons, lats, tp_inch, cmap=cmap)\n",
    "cbar = fig.colorbar(cs, shrink=0.7, orientation='horizontal')\n",
    "cbar.set_label(grid.getLocationName() + \" Total precipitation in inches, \" \\\n",
    "               + str(fcstHr) + \"-hr fcst valid \" + str(grid.getDataTime().getRefTime()))\n",
    "\n",
    "ax.scatter(point.x, point.y, s=300,\n",
    "           transform=ccrs.PlateCarree(),marker=\"+\",facecolor='black')\n",
    "\n",
    "inc = 3.5\n",
    "box=[point.x-inc, point.x+inc, point.y-inc, point.y+inc]\n",
    "polygon = Polygon([(box[0],box[2]),(box[0],box[3]), \n",
    "                   (box[1],box[3]),(box[1],box[2]),\n",
    "                   (box[0],box[2])])\n",
    "ax.add_geometries([polygon], ccrs.PlateCarree(), facecolor='none', edgecolor='white', linewidth=2)"
   ]
  },
  {
   "cell_type": "markdown",
   "metadata": {},
   "source": [
    "Now create a new gridded data request with a geometry envelope for our Region of Interest"
   ]
  },
  {
   "cell_type": "code",
   "execution_count": null,
   "metadata": {},
   "outputs": [],
   "source": [
    "request = DataAccessLayer.newDataRequest(\"grid\", envelope=polygon)\n",
    "request.setLocationNames(\"HRRR\")\n",
    "request.setLevels(\"0.0SFC\")\n",
    "request.setParameters(\"TP\")\n",
    "\n",
    "cycles = DataAccessLayer.getAvailableTimes(request, True)\n",
    "times = DataAccessLayer.getAvailableTimes(request)\n",
    "fcstRun = DataAccessLayer.getForecastRun(cycles[-2], times)\n",
    "\n",
    "\n",
    "for i, tt in enumerate(fcstRun):\n",
    "    response = DataAccessLayer.getGridData(request, [tt])\n",
    "    grid = response[0]\n",
    "    if i>0:\n",
    "        data += grid.getRawData()\n",
    "    else:\n",
    "        data = grid.getRawData()\n",
    "    data[data <= -9999] = 0\n",
    "    print(data.min(), data.max(), grid.getDataTime().getFcstTime()/3600)\n",
    "    \n",
    "\n",
    "lons, lats = grid.getLatLonCoords()\n",
    "bbox = [lons.min(), lons.max(), lats.min(), lats.max()]\n",
    "fcstHr = int(grid.getDataTime().getFcstTime()/3600)\n",
    "\n",
    "tp_inch = data * (0.0393701)\n",
    "print(tp_inch.min(), tp_inch.max())\n",
    "\n",
    "def make_map(bbox, projection=ccrs.PlateCarree()):\n",
    "    fig, ax = plt.subplots(figsize=(20, 14),\n",
    "            subplot_kw=dict(projection=projection))\n",
    "    ax.set_extent(bbox)\n",
    "    ax.coastlines(resolution='50m')\n",
    "    return fig, ax\n",
    "\n",
    "cmap = plt.get_cmap('rainbow')\n",
    "fig, ax = make_map(bbox=box)\n",
    "cs = ax.pcolormesh(lons, lats, tp_inch, cmap=cmap)\n",
    "cbar = fig.colorbar(cs, shrink=0.7, orientation='horizontal')\n",
    "cbar.set_label(grid.getLocationName() + \" Total precipitation in inches, \" \\\n",
    "               + str(fcstHr) + \"-hr fcst valid \" + str(grid.getDataTime().getRefTime()))"
   ]
  }
 ],
 "metadata": {
  "kernelspec": {
   "display_name": "Python 3",
   "language": "python",
   "name": "python3"
  },
  "language_info": {
   "codemirror_mode": {
    "name": "ipython",
    "version": 3
   },
   "file_extension": ".py",
   "mimetype": "text/x-python",
   "name": "python",
   "nbconvert_exporter": "python",
   "pygments_lexer": "ipython3",
   "version": "3.8.6"
  }
 },
 "nbformat": 4,
 "nbformat_minor": 2
}
